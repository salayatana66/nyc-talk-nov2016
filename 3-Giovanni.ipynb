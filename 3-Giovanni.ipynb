{
 "cells": [
  {
   "cell_type": "markdown",
   "metadata": {
    "nbpresent": {
     "id": "f55c1b47-547e-4359-b317-998bd6746f5e"
    },
    "slideshow": {
     "slide_type": "slide"
    }
   },
   "source": [
    "# Three questions of Giovanni Alberti on the structure of normal currents and Lipschitz maps\n",
    "\n",
    "I will explain how techniques originating in Analysis on Metric Spaces can be applied to solve three questions of Alberti in Euclidean Geometric Measure Theory.\n",
    "\n",
    "Q1. Can a $k$-dimensional normal current be represented as an integral of $k$-rectifiable currents?\n",
    "\n",
    "Q2. If $\\mu$ is a finite Radon measure and $g:R^N\\to R^N$ is bounded Borel, can you solve $\\nabla f = g$ on a set of large measure?\n",
    "\n",
    "Q3. If $\\mu$ is a singular Radon measure can you construct a Lipschitz $f:R^N\\to R$ with a prescribed bad non-differentiability behavior on a set of large measure?\n",
    "\n",
    "Solution of Q2 and Q3 is joint work with Andrea Marchese (UZH)."
   ]
  },
  {
   "cell_type": "markdown",
   "metadata": {
    "collapsed": true,
    "nbpresent": {
     "id": "8817c5be-f5e6-4065-abd1-11138422c0e6"
    },
    "slideshow": {
     "slide_type": "skip"
    }
   },
   "source": [
    "$$\n",
    "\\def\\hmeas#1.{\\mathscr{H}^{ #1}} %Hausdorff measure with default argument by\n",
    "\\def\\real{{\\mathbb{R}}}\n",
    "\\def\\zahlen{{\\mathbb Z}}\n",
    "\\def\\glip#1.{{\\bf L}(#1)} %global Lipschitz constant\n",
    "\\DeclareMathOperator\\diam{diam}%diametre\n",
    "\\DeclareMathOperator\\im{Im}%image \n",
    "\\DeclareMathOperator\\Inside{Int}%image \n",
    "\\def\\natural{{\\mathbb N}}\n",
    "\\DeclareMathOperator\\dom{dom} % domain\n",
    "\\newcommand{\\on}{\\:\\rule{0.1ex}{1.2ex}\\rule{1.1ex}{0.1ex}\\:}\n",
    "\\def\\cmass#1.{{\\|#1\\|}}%current mass\n",
    "\\newcommand{\\dist}{\\operatorname{dist}}\n",
    "$$"
   ]
  },
  {
   "cell_type": "markdown",
   "metadata": {},
   "source": [
    "## Question 1"
   ]
  },
  {
   "cell_type": "markdown",
   "metadata": {
    "nbpresent": {
     "id": "f3ef5926-940c-4762-bba2-a0586cca4efc"
    },
    "slideshow": {
     "slide_type": "notes"
    }
   },
   "source": [
    "Outline\n",
    "1. Definition of normal currents\n",
    "2. Integral current, rectifiable example, convex combinations\n",
    "3. Integral combination\n",
    "4. Question of Morgan\n",
    "5. Smirnov & codimension 1\n",
    "6. Zworski additional constraints\n",
    "7. Question of ACP\n",
    "8. My result\n",
    "9. Outline of the construction"
   ]
  },
  {
   "cell_type": "markdown",
   "metadata": {
    "nbpresent": {
     "id": "7044a57b-5893-42a3-ae6b-4e399410a584"
    },
    "slideshow": {
     "slide_type": "slide"
    }
   },
   "source": [
    "\\begin{definition}[Normal current]\n",
    "A \\textbf{$k$-dimensional normal current} $N$ is a functional on smooth $k$-forms in $\\real^n$ with compact support such that both $N$ and its boundary $\\partial N(\\omega) = N(d\\omega)$ are given by integration against finite measures:\n",
    "$$\n",
    "N(\\omega) = \\int_{\\real^N} \\langle\\omega(x),V(x)\\rangle\\,d\\cmass N.(x)\n",
    "$$\n",
    "$$\n",
    "\\partial N(\\omega) = \\int_{\\real^N} \\langle\\omega(x),B(x)\\rangle\\,d\\cmass \\partial N.(x)\n",
    "$$\n",
    "\n",
    "An object satisfying only the first one is a current with finite mass.\n",
    "\\end{definition}\n",
    "\n",
    "Why do we care? Were used by Federer & Fleming to give a solution to Plateau's problem in any dimension and codimension. Useful because of compactness (think of $BV$ to recover compactness for $W^{1,1}$), but what do these things look like?"
   ]
  },
  {
   "cell_type": "markdown",
   "metadata": {
    "nbpresent": {
     "id": "342ce46c-0e62-47be-87e2-08654e8904d0"
    },
    "slideshow": {
     "slide_type": "slide"
    }
   },
   "source": [
    "\\begin{example}[Rectifiable currents (with integer multiplicity)]\n",
    "$S$ a $k$-rectifiable subset of finite measure, $\\xi$ a simple unit $k$-vector that gives an orietnation of the $T_xS$ $\\hmeas k.$-a.e.:\n",
    "$$N_S = \\xi\\,\\hmeas k.\\angle S$$\n",
    "\n",
    "Can take $K\\subset\\real^k$ compact and $f:\\real^k\\to\\real^n$ Lipschitz (careful with $Df$ singular!!) and push-forward: $f_{\\\\#}[[K]]$\n",
    "Assume that $\\partial K$ is also $(k-1)$-rectifiable, then we get an integral current: $$\\partial f_\\\\#[[K]] = f_{\\\\#}N_{\\partial K}$$\n",
    "\\end{example}"
   ]
  },
  {
   "cell_type": "markdown",
   "metadata": {
    "nbpresent": {
     "id": "16fae44a-ced9-4b84-a193-9fd4bf2fbe73"
    }
   },
   "source": [
    "\\begin{example}[Superposition]\n",
    "A linear (convex) combination of rectifiable (normal) currents $\\sum_{i=1}^p\\alpha_iN_i$\n",
    "\n",
    "$[[\\sigma]]$ the rectifiable current associated to a $k$-rectifiable set; $Q$ a finite measure on the $\\sigma$'s:\n",
    "$$ N = \\int [[\\sigma]]\\,dQ(\\sigma)$$\n",
    "In general:\n",
    "\n",
    "$$\n",
    "\\cmass N. \\le \\int \\hmeas k.(\\sigma)\\,dQ(\\sigma)\n",
    "$$\n",
    "\n",
    "Assume we only sue $\\sigma$ to have $(k-1)$-rectifiable boundary\n",
    "$$\n",
    "\\cmass\\partial N. \\le \\int \\hmeas k-1.(\\partial\\sigma)\\,dQ(\\sigma)\n",
    "$$\n",
    "\n",
    "If $\\Gamma$ is a RV which gives a Random Surface you can take expectation:\n",
    "$$ E[[[\\Gamma]]]$$\n",
    "will give a $2$-current\n",
    "\\end{example}"
   ]
  },
  {
   "cell_type": "markdown",
   "metadata": {
    "nbpresent": {
     "id": "5194009a-74db-45a3-ad9d-bc6a3bc42ad3"
    }
   },
   "source": [
    "\\begin{problem}[Frank Morgan(1984)]\n",
    "Can every normal current in\n",
    "  $\\real^n$ be decomposed as a convex integral combination of integral\n",
    "  currents? In codimension one the answer is YES if $\\partial\n",
    "  T=0$. In my words: take $N$ and find $Q$ with \n",
    "  \n",
    "  $$\n",
    "  N = \\int[[\\sigma]]\\,dQ(\\sigma)\n",
    "  $$\n",
    "  \n",
    "  In my opinion \"convex\" means this:\n",
    "  $$\n",
    "  \\cmass N. = \\int\\cmass[[\\sigma]].\\,dQ(\\sigma)\n",
    "  $$\n",
    "\\end{problem}\n",
    "\n",
    "We show even relaxing to \"rectifiable\" currents fails (This is the question of Giovanni Alberti)."
   ]
  },
  {
   "cell_type": "markdown",
   "metadata": {
    "nbpresent": {
     "id": "0976f32f-41ae-41e2-8e61-58bf33470102"
    }
   },
   "source": [
    "Codimension $1$, i.e. $k=n-1$ is easy; assume $\\partial T=0$; then $T=\\partial S$ and $S = f\\,\\hmeas n.$; but then $f$ is BV and by the coarea formula:\n",
    "\n",
    "$$\n",
    "T = \\int\\partial[[\\hmeas n.\\angle \\{x: f(x)\\ge s\\}]]\\,d\\hmeas 1.(s)\n",
    "$$\n",
    "\n",
    "$$\n",
    "\\cmass T. = \\int\\cmass{\\partial[[\\hmeas n.\\angle \\{x: f(x)\\ge s\\}]]}.\\,d\\hmeas 1.(s)\n",
    "$$\n",
    "\n",
    "Alberti & Massaccesi treat $\\partial T\\ne 0$ finding a $T'$ with $\\cmass T'.$ and $\\cmass T.$ mutually singular and $\\partial T + \\partial T' = 0$."
   ]
  },
  {
   "cell_type": "markdown",
   "metadata": {
    "collapsed": true,
    "nbpresent": {
     "id": "28574b9f-a587-4d04-810c-d8d717fba483"
    }
   },
   "source": [
    "\\begin{theorem}[Stanislav Smirnov (1993)]\n",
    "Take a $1$-dimensional normal current $T$ and break it down into a maximal cycle $T_{Cyc}$ and a maximal acyclic part $T_{ACyc}$:\n",
    "\n",
    "$$ T = T_{Cyc} + T_{ACyc} $$\n",
    "\n",
    "$$ \\cmass T. = \\cmass T_{Cyc}. + \\cmass T_{ACyc}.$$\n",
    "\n",
    "For the acyclid part we have even better than what Morgan asks:\n",
    "\n",
    "$$ T_{ACyc} = \\int [[\\sigma]]\\,dQ(\\sigma) $$\n",
    "\n",
    "$$  \\cmass T_{ACyc}. = \\int \\cmass[[\\sigma]].\\,dQ(\\sigma) $$\n",
    "\n",
    "$$ \\cmass \\partial T_{ACyc}. = \\int \\cmass\\partial[[\\sigma]].\\,dQ(\\sigma) $$\n",
    "\n",
    "For the cyclic part there is an issue: must look into Solenoids: \n",
    "https://en.wikipedia.org/wiki/Solenoid_(mathematics) , e.g. the Smale-Williams solenoid on the torus. For a solenoid:\n",
    "$f : \\real\\to \\real^n$ 1-Lipschitz, $f(\\real)\\subset spt(T)$ and $\\cmass T.(\\real^n)=1$ where \n",
    "\n",
    "$$ T = \\lim_{k\\to\\infty}\\frac{1}{2k}f_{\\\\#}[[-k,k]] $$\n",
    "\n",
    "Then Morgan's is true with solenoids:\n",
    "\n",
    "$$ T_{Cyc} = \\int_{Sol} sol\\,dQ(sol) $$\n",
    "$$ \\cmass T_{Cyc}. = \\int_{Sol} \\cmass sol.\\,dQ(sol) $$\n",
    "\\end{theorem}"
   ]
  },
  {
   "cell_type": "markdown",
   "metadata": {
    "nbpresent": {
     "id": "297571c2-d776-4eb0-b1ef-e0005c8b29c8"
    }
   },
   "source": [
    "Main idea: smooth out $T$, go to $1$-higher dimension to get a decent flow from the smoothed vector fields and then pass to the limit. An alternative and maybe simpler approach (2014), works in metric spaces too, is due to Paolini & Stepanov (Journal of Functional Analysis)"
   ]
  },
  {
   "cell_type": "markdown",
   "metadata": {
    "nbpresent": {
     "id": "6f99e59c-c5fd-4501-9f68-5bff7a6fa77c"
    }
   },
   "source": [
    "\\begin{theorem}[Zworski (1988), Alberti & Massaccesi (2014)]\n",
    "Morgan's is NO in general: take $\\xi\\hmeas n.$ where $\\xi$ is non-involutive and $C^\\infty$; however, if you drop the mass constraint or you can use rectifiable currents these do NOT give a counterexample.\n",
    "\\end{theorem}"
   ]
  },
  {
   "cell_type": "markdown",
   "metadata": {
    "nbpresent": {
     "id": "b2be325d-d132-4a2d-ba81-f04a69c824e6"
    }
   },
   "source": [
    "\\begin{theorem}[Alberti-Csornyei-Marchese-Preiss (2010,2016)] \n",
    "Let $\\mu$ be a Radon measure on $\\real^n$; then there is a $\\mu$-a.e.~uniquely defined assigment $x\\mapsto Dec(\\mu, x)$ (a $k=k(x)$-dimensional subspace of $\\real^n$)  called the decomposability bundle of $\\mu$  which has the following two properties:\n",
    "\n",
    "\\begin{enumerate}\n",
    "\\item Every real-valued Lipschitz function $f$ is differentiable at $\\mu$-a.e. $x$ with respect to the linear subspace $Dec(\\mu, x)$, that is, there exists a linear function from $d_{hor}f:Dec(\\mu, x) \\to \\real$, such that:\n",
    "$$ f(x+h)=f(x)+d_{hor}f(x)(h)+o(h) \\quad\\text{for $h\\in Dec(\\mu,x)$}$$\n",
    "\\item The previous statement is optimal in the sense that there exists a Lipschitz function $f$ such that for $\\mu$-a.e. $x$ and every $v\\not\\in Dec(\\mu, x)$ the derivative of $f$ at $x$ in the direction $v$ does not exist.\n",
    "\\item Assume $Dec(\\mu,\\cdot)$ has constant dimension $k$. Then $\\mu$ admits $k$ distinct $1$-rectifiable representations $$\\mu = \\int w_i(x)\\cmass[[\\sigma]].\\,dQ_i(\\sigma)$$\n",
    "such that at $\\mu$-a.e.~$x$ for each $i$, choosing a tangent vector $V_i(x)$ used in the $i$-th representation, $(V_i(x))_{i=1}^k$ give a basis of $Dec(\\mu,x)$. \n",
    "\\end{enumerate}\n",
    "\n",
    "\\end{theorem}"
   ]
  },
  {
   "cell_type": "markdown",
   "metadata": {},
   "source": [
    "\\begin{problem}[Alberti-Csorneyi-Preiss (2010)]\n",
    "If $k>1$ and $Dec(\\mu,\\cdot)$ is $k$-dimensional, is $\\mu$ $k$-rectifiably representable?\n",
    "\n",
    "$$\n",
    "\\mu = \\int w(x)\\cmass[[\\sigma]].\\,dQ(\\sigma),\n",
    "$$\n",
    "\n",
    "$Q$ measure on $k$-rectifiable sets.\n",
    "\\end{problem}"
   ]
  },
  {
   "cell_type": "markdown",
   "metadata": {},
   "source": [
    "For $k=1$ true by ACP; these are known as \"Alberti representations\" after Bate & Preiss. \n",
    "\n",
    "For $k=n$ true by Guido de Philippis-Rindler & announced of Csorneyi & Jones; note this is often called \"Rademacher is sharp\"\n",
    "\n",
    "For $n=3$ and $k=2$ Andras Mathe (2012) announced a NEGATIVE result.\n",
    "\n",
    "Our construction gives NEGATIVE answer to $1< k < n-1$. "
   ]
  },
  {
   "cell_type": "markdown",
   "metadata": {},
   "source": [
    "\\begin{theorem}[Schioppa (2016)]\n",
    "In $\\real^n$ ($n\\ge 4$) there is an $(n-2)$-dimensional normal current which is simple and whose support is purely $2$-unrectifiable, i.e.~any surface meets it into a set of area $0$.\n",
    "\\end{theorem}\n",
    "\n",
    "Puzzle: Guido de Philippis pointed out that that by his result a singular $n-2$ current must have a simple vector field (argument is Linear Algebra + PDE) but no geometric intuition. Before seeing his result, I was thinking a non-simple one would be easier to construct (after Williams in Carnot groups), but couldn't get it!"
   ]
  },
  {
   "cell_type": "markdown",
   "metadata": {},
   "source": [
    "Schioppa (2015) a simple construction in metric spaces; even in $l^2$ could not bi-Lipschitz embedd (Radon-Nikodym property :( ); but then looked for a Lipschitz topological embedding :); for finite-dimensional spaces found a trick in SVMs literature\n",
    "\n",
    "Outline of proof:\n",
    "\n",
    "* Layer 0 => metric result (Bruce)\n",
    "* Layer 1 => $l^2$, finding right rate of collapse\n",
    "* Layer 2 => $\\real^4$: the kernel trick (Kaori); price to pay: no-self similarity, the vector fields will spin around, the two dimensions left out are needed for this \"spinning\" => for $k=n-1$ this is exactly what fails\n",
    "* Layer 3 => destroy any pair of surface & use the area formula (Bruce)"
   ]
  },
  {
   "cell_type": "markdown",
   "metadata": {},
   "source": [
    "## Question 2"
   ]
  },
  {
   "cell_type": "markdown",
   "metadata": {
    "collapsed": true
   },
   "source": [
    "Outline\n",
    "\n",
    "1. Buttazzo & dal Maso \n",
    "2. Rectifiable sets tangents to non-involutive distributions; paradox with Pansu differentiability\n",
    "3. Giovanni for Lebesgue measure\n",
    "4. David for PI-spaces & doubling (even in $R^N$ would not give sharp dependence)\n",
    "5. Schioppa (unpublished): Radon measures in doubling spaces are like doubling at many scales and the estimates on the area of the corona is sharp\n",
    "6. Geometric Lemma in $R^N$ to run Giovanni's argument"
   ]
  },
  {
   "cell_type": "markdown",
   "metadata": {},
   "source": [
    "\\begin{problem}[Buttazzo & dal Maso (1985)]\n",
    "You are given a functional $F(u,A)$ for $u\\in C_c^\\infty(A)$ and $A\\subset\\real^n$ open by:\n",
    "$$\n",
    "F(u,A) = \\int_A g(x, Du(x))\\,d\\mu(x)\n",
    "$$\n",
    "\n",
    "(and you can then possibly extend to suitable Sobolev spaces). Does $F$ determine $g$?\n",
    "\\end{problem}\n",
    "We would like to know that $g(x,\\cdot)$ is uniquely determined up to $x$ into a Borel $\\mu$-null set. We want to solve $Df = H$ for $H$ bounded and measurable. But in general the distributional $curl$ of $H$ is nonzero!"
   ]
  },
  {
   "cell_type": "markdown",
   "metadata": {},
   "source": [
    "\\begin{problem}[Non-involutive currents]\n",
    "Let $X_1,\\cdots,X_k$ be a non-involutive distribution. By Frobenious we cannot find a $k$-tangent manifold; can we find a $k$-tangent rectifiable set? (in general $f:K\\to\\real^n$ with $K$ of empty interior)\n",
    "\\end{problem}\n",
    "\n",
    "Application: By Pansu's Differentiability, if $f:K\\subset\\real^2\\to\\mathbb{H}$ is Lipschitz, then $Df$ is singular. But if on $\\mathbb{H}$ we take the Euclidean metric, we can find $f$ tangent to the Heisenberg distribution!"
   ]
  },
  {
   "cell_type": "markdown",
   "metadata": {},
   "source": [
    "\\begin{theorem}[Alberti 1990].\n",
    "Let $\\Omega\\subset\\real^n$ be an open set with $\\hmeas n.(\\Omega)<\\infty$. Let \n",
    "$H:\\real^n \\to\\real^n$ be a Borel map. Then fore every every $\\varepsilon,\\xi > 0$\n",
    "there exist a compact set $K$ and a function $f ∈ C^1_c(Ω)$ with:\n",
    "\n",
    "\\begin{enumerate}\n",
    "\\item $\\|f\\|_\\infty \\le \\xi$ \n",
    "\\item $\\hmeas n.(\\Omega\\setminus K) \\le \\varepsilon\\hmeas n.(\\Omega)$\n",
    "\\item $Df(x) = H(x)$, for every $x \\in K$\n",
    "\\item Moreover, there exists C = C(N) such that\n",
    "$\\|Df\\|_p \\le C\\varepsilon^{1/p−1}\\|H\\|$, for every $p\\in[1, ∞]$.\n",
    "\\end{enumerate}\n",
    "\\end{theorem}\n",
    "\n",
    "The dependence in $\\varepsilon$ is sharp. The key ingredient is using dyadic cubes and the decay to $0$ of the volume of thin annulii. Same argument can be run in PI-spaces (David (2015)) using Christ's cubes (but the exponent of $\\varepsilon$ worsens)"
   ]
  },
  {
   "cell_type": "markdown",
   "metadata": {},
   "source": [
    "$$\n",
    "\\def\\bxset{\\text{ Bx}\\left(x,r\\right)} % box set\n",
    "\\def\\fxset{\\text{ Fr}\\left(x,r,\\varepsilon\\right)}\n",
    "\\def\\bxsetzero{\\text{ Bx}\\left(0,r\\right)} % box set\n",
    "$$"
   ]
  },
  {
   "cell_type": "markdown",
   "metadata": {},
   "source": [
    "Key ingredient, motivated by a similar result in metric spaces.\n",
    "\n",
    "\\begin{lem}[Existence of cubes with negligible frames]\n",
    "  Let $K$ be compact with $\\mu(K)>0$ and $U\\supset K$ open with\n",
    "  $\\mu(U)\\le\\frac{3}{2}\\mu(K)$. Assume that $r>0$ is such that for\n",
    "  each $\\bxset$ which intersects $K$ one has $\\bxset\\subset\n",
    "  U$. For $\\varepsilon>0$ define\n",
    "  \\begin{equation}\n",
    "\\begin{split}\n",
    "    B^{good}_\\omega = \\biggl\\{\n",
    "        \\bxset\\in& Cubes(r,\\omega): \\bxset\\cap K\\ne\\emptyset\\\\\n",
    "&\\text{and $\\mu(\\fxset) \\le 16N2^N\\varepsilon\\mu(\\bxset)$}\n",
    "\\biggr\\}.\n",
    "\\end{split}\n",
    "\\end{equation}\n",
    "Then for some $\\omega\\in\\bxsetzero$ one has:\n",
    "\\begin{equation}\n",
    "  \\mu(\\bigcup B^{good}_\\omega\\cap K)\\ge\\frac{3}{4}\\mu(K).\n",
    "\\end{equation}\n",
    "\\end{lem}"
   ]
  },
  {
   "cell_type": "markdown",
   "metadata": {},
   "source": [
    "\\begin{theorem}[Marchese-Schioppa 2016].\n",
    "Let $\\Omega\\subset\\real^n$ be an open set, $\\mu$ a Radon measure and assume\n",
    "$\\mu(\\Omega)<\\infty$. Let \n",
    "$H:\\real^n \\to\\real^n$ be a Borel map. Then for every $\\varepsilon,\\xi > 0$\n",
    "there exists a compact set $K$ and a function $f ∈ C^1_c(Ω)$ with:\n",
    "\n",
    "\\begin{enumerate}\n",
    "\\item $\\|f\\|_\\infty \\le \\xi$ \n",
    "\\item $\\mu(\\Omega\\setminus K) \\le \\varepsilon\\mu(\\Omega)$\n",
    "\\item $Df(x) = H(x)$, for every $x \\in K$\n",
    "\\item Moreover, there exists C = C(N) such that\n",
    "$\\|Df\\|_p \\le C\\varepsilon^{1/p−1}\\|H\\|$, for every $p\\in[1, ∞]$. (norm $L^p(\\mu,\\Omega)$)\n",
    "\\end{enumerate}\n",
    "\\end{theorem}"
   ]
  },
  {
   "cell_type": "markdown",
   "metadata": {},
   "source": [
    "## Question 3"
   ]
  },
  {
   "cell_type": "markdown",
   "metadata": {},
   "source": [
    "Outline\n",
    "\n",
    "1. Non-differentiability => the blow-up is non-unique\n",
    "2. Measures for which the blow-up can only have a product structure\n",
    "3. Result: prescribe all blow-ups with a product structure\n",
    "4. Very technical; crucial tool: boosted approximation scheme"
   ]
  },
  {
   "cell_type": "markdown",
   "metadata": {
    "collapsed": true
   },
   "source": [
    "We have seen that even if $\\mu$ is singular we can prescribe $f$ how have a linear blow-up on a large set. This is the positive aspect; on the negative we have a set of directions where $f$ is non-differentiable. Can we say more?"
   ]
  },
  {
   "cell_type": "markdown",
   "metadata": {},
   "source": [
    "\\begin{definition}\n",
    "A blow-up of $f$ at $x$ is a map $g:B(0,1)\\subset\\real^n\\to\\real^n$ that arises as limit of a sequence of rescalings:\n",
    "\n",
    "$$\n",
    "\\frac{f(r_n\\cdot y)-f(x)}{r_n}\\to g(y)\n",
    "$$\n",
    "\n",
    "where $r_n\\to 0$. The unit ball $B(0,1)$ is just for convenience.\n",
    "\\end{definition}"
   ]
  },
  {
   "cell_type": "markdown",
   "metadata": {},
   "source": [
    "When $f$ is differentiable at $x$ the blow-up is unique and linear. When $f$ is non-differentiable the blow-up is non-unique. In general, however, people have just shown that the $\\limsup$ and $\\liminf$ of some directional derivative are different. We want to go beyond these results. The starting point is the following (kind of easy):\n",
    "\n",
    "\\begin{theorem}[Marchese-Schioppa 2016; Prescribe blow-ups on $\\real$]\n",
    "Let $\\mu$ be a singular measure on $\\real$; then there is a $1$-Lipschitz function $f$ such that for $\\mu$-a.e.~$x$ the set of blow-ups of $f$ at $x$ contains all the $1$-Lipschitz functions.\n",
    "\\end{theorem}\n",
    "\n",
    "What if we wanted a unique blow-up (not necessarily linear?) Then easy to see it must be positively homogeneous.\n",
    "\\begin{theorem}[Marchese-Schioppa 2016]\n",
    "A unique blow-up $f(x)=\\{H(x)\\}$ where $H$ is $1$-positively homogenous but not linear can be prescribed only at the atoms of $\\mu$.\n",
    "\\end{theorem}"
   ]
  },
  {
   "cell_type": "markdown",
   "metadata": {},
   "source": [
    "\\begin{example}[Blow-ups with a product structure]\n",
    "Pick $\\mu=\\hmeas k.\\times \\nu^{n-k}$ ($\\nu^k$ is $\\nu\\times\\nu\\cdots$ $(n-k)$-times) where $\\nu$ is a doubling singular measure on $\\real$ which blow-ups at each point to Lebesgue measure (one example is due to Preiss).\n",
    "Then consider an approximate continuity point $x$ of $\\nabla_k f$: any blow-up $g$ at $x$ is determined by a $1$-Lipschitz function $h:\\real^{n-k}\\to\\real$ (which vanishes at the origin):\n",
    "\n",
    "$$\n",
    "g(x_k,x'_k) = h(x'_k) + \\nabla_k f(x)\\cdot x_k\n",
    "$$\n",
    "\\end{example}"
   ]
  },
  {
   "cell_type": "markdown",
   "metadata": {},
   "source": [
    "\\begin{theorem}[Marchese-Schioppa 2016; Prescribing blow-ups in $\\real^n$]\n",
    "Let $\\mu$ be a finite Radon measure and $\\varepsilon>0$; let $L(x)$ an assigment of the $df$ (compatible with $Dec(\\mu,\\cdot)$. Then there is an $O(1/\\varepsilon)$-Lipschitz function $f$ such that:\n",
    "\\begin{enumerate}\n",
    "\\item For each $x$ in a set of measure $>(1-\\varepsilon)\\mu(\\real^n)$ the set of blow-ups of $f$ at $x$ consists of ALL the functions of the form $L(x)\\cdot\\pi_{Dec(\\mu,x)}+h$ where $h$ is any $1$-Lipschitz function $h:Dec(\\mu,x)^\\perp\\to\\real$.\n",
    "\\item If $L=0$, $f$ can be taken to be $(2\\sqrt{3})$-Lipschitz.\n",
    "\\end{enumerate}\n",
    "\\end{theorem}"
   ]
  },
  {
   "cell_type": "markdown",
   "metadata": {},
   "source": [
    "The argument is very technical. The construction on $\\real$ is quite simple; if you think about it, it's not surprising because the line has an order (think about building a Lipschitz function with prescribed derivative). In $\\real^2$ already there are many constraints: the support of $\\mu$ can have a complex local geometry."
   ]
  },
  {
   "cell_type": "markdown",
   "metadata": {},
   "source": [
    "The key definition to iterate is to get Lipschitz functions whose Lipschitz constant becomes negligible at small scales.\n",
    "\n",
    "\\begin{definition}[Local behaviour of a Lipschitz function]\n",
    "Let $S$ be a set and let $\\alpha\\ge 0$ and $r_0 > 0$. A real-valued Lipschitz function f whose domain contains S is said to be $\\alpha$-Lipschitz on S below scale $r_0$ if whenever $x\\in S$ and $y\\in B(x,r_0)$ one has:\n",
    "$|f (x) − f (y)| ≤ \\alpha d(x, y)$. \n",
    "\n",
    "The Lipschitz function $f$ is said to be asymptotically flat on $S$ if for each $\\varepsilon > 0$\n",
    "there is an $r_\\varepsilon > 0$ such that $f$ is $\\varepsilon$-Lipschitz on $S$ below scale $r_\\varepsilon$.\n",
    "\\end{definition}"
   ]
  },
  {
   "cell_type": "markdown",
   "metadata": {},
   "source": [
    "\\begin{theorem}[Schioppa 2013; Approximation Scheme]\n",
    "  Let $f$ be a real-valued Lipschitz function defined on $\\real^n$ and $\\mu$ a\n",
    "  Radon measure. Let $K$ be a compact subset on which $|d_{hor}f|\\le\\alpha$ ($d_{hor}f$ computed wrt. to $\\mu$)\n",
    "  for\n",
    "  some $\\alpha>0$. Then for each $\\varepsilon>0$ there are an\n",
    "  $r_\\varepsilon>0$, a compact $K_\\varepsilon\\subseteq K$ and a real-valued\n",
    "  Lipschitz function $f_\\varepsilon$ defined on $X$ such that:\n",
    "  \\begin{enumerate}\n",
    "  \\item For any open set $K\\subset U\\subseteq \\real^n$ the Lipschitz constant\n",
    "    of the resctriction $f_\\varepsilon|U$ is\n",
    "    at most the Lipschitz constant  of the restriction\n",
    "    $f|U$. \n",
    "  \\item $| f_\\varepsilon - f|_\\infty\\le\\varepsilon$ and $f$ is\n",
    "    $\\alpha$-Lipschitz on $K_\\varepsilon$ below scale $r_\\varepsilon$.\n",
    "  \\item $\\mu(K\\setminus K_\\varepsilon)\\le\\varepsilon$.\n",
    "  \\end{enumerate}\n",
    "\\end{theorem}\n"
   ]
  },
  {
   "cell_type": "markdown",
   "metadata": {},
   "source": [
    "To iterate we need $f$-asymptotically flat!! We use the solution to Q2 to \"boost\" the approximation scheme.\n",
    "\n",
    "\\begin{theorem}[Marchese-Schioppa 2016, Boosted approximation scheme]\n",
    "Let $K\\subset\\real^n$ be a compact subset and $\\alpha>0$ be such that\n",
    "$|d_{hor}f|\\le\\alpha$ on $K$. Then there is a constant $C=C(n)$\n",
    "(indep.~of $f$) such that for any choice of parameters\n",
    "$(\\varepsilon_s, \\varepsilon_m)\\in(0,1/2)^2$ there are a\n",
    "Lipschitz function $\\hat f$ and a compact set $\\hat K$ such that:\n",
    "\\begin{enumerate}\n",
    "\\item $\\|\\hat f-f\\|_\\infty\\le\\varepsilon_s$ and $\\mu(K\\setminus\n",
    "  \\hat K)\\le\\varepsilon_m\\mu(K)$.\n",
    "\\item $\\hat f$ is asymptotically flat on $\\hat K$.\n",
    "\\item $\\hat f$ is $(\\glip f. +C\\frac{\\alpha}{\\varepsilon_m})$-Lipschitz.\n",
    "\\end{enumerate}\n",
    "\\end{theorem}\n"
   ]
  },
  {
   "cell_type": "code",
   "execution_count": null,
   "metadata": {
    "collapsed": true
   },
   "outputs": [],
   "source": []
  }
 ],
 "metadata": {
  "anaconda-cloud": {},
  "celltoolbar": "Slideshow",
  "kernelspec": {
   "display_name": "Python [default]",
   "language": "python",
   "name": "python2"
  },
  "language_info": {
   "codemirror_mode": {
    "name": "ipython",
    "version": 2
   },
   "file_extension": ".py",
   "mimetype": "text/x-python",
   "name": "python",
   "nbconvert_exporter": "python",
   "pygments_lexer": "ipython2",
   "version": "2.7.12"
  },
  "latex_envs": {
   "bibliofile": "biblio.bib",
   "cite_by": "apalike",
   "current_citInitial": 1,
   "eqLabelWithNumbers": true,
   "eqNumInitial": 0
  },
  "nbpresent": {
   "slides": {
    "0cffc379-ee0f-401a-a307-d69c798a4b52": {
     "id": "0cffc379-ee0f-401a-a307-d69c798a4b52",
     "prev": null,
     "regions": {
      "e48c0b39-e6b9-4459-b85f-77fc1d6a4321": {
       "attrs": {
        "height": 0.8,
        "width": 0.8,
        "x": 0.1,
        "y": 0.1
       },
       "content": {
        "cell": "f55c1b47-547e-4359-b317-998bd6746f5e",
        "part": "whole"
       },
       "id": "e48c0b39-e6b9-4459-b85f-77fc1d6a4321"
      }
     }
    },
    "2323e1c2-5c01-4350-b1a2-5c8b54bc33f5": {
     "id": "2323e1c2-5c01-4350-b1a2-5c8b54bc33f5",
     "prev": "45a03f76-e7a6-485e-b120-0d9fec9f1b52",
     "regions": {
      "097981a2-c362-476a-9637-d3db3e5f7c5b": {
       "attrs": {
        "height": 0.8,
        "width": 0.8,
        "x": 0.1,
        "y": 0.1
       },
       "content": {
        "cell": "4d4b3e56-15ef-4bd1-8584-f6ce410e6939",
        "part": "whole"
       },
       "id": "097981a2-c362-476a-9637-d3db3e5f7c5b"
      }
     }
    },
    "354ee010-576d-47f7-926e-f297a3fba8b7": {
     "id": "354ee010-576d-47f7-926e-f297a3fba8b7",
     "prev": "faad63dc-3372-4958-8c0e-cbf1a2e59009",
     "regions": {
      "5c7158a2-c92d-4e22-83bf-3a35e465510a": {
       "attrs": {
        "height": 0.8,
        "width": 0.8,
        "x": 0.1,
        "y": 0.1
       },
       "content": {
        "cell": "f3ef5926-940c-4762-bba2-a0586cca4efc",
        "part": "whole"
       },
       "id": "5c7158a2-c92d-4e22-83bf-3a35e465510a"
      }
     }
    },
    "3d0e6b69-5efb-4661-9aa7-9e2072a2da07": {
     "id": "3d0e6b69-5efb-4661-9aa7-9e2072a2da07",
     "prev": "4b727b37-fb2e-4a06-8a78-82228b6baff6",
     "regions": {
      "e3e7ebe6-1cd2-43ed-80a2-5907c09b79d9": {
       "attrs": {
        "height": 0.8,
        "width": 0.8,
        "x": 0.1,
        "y": 0.1
       },
       "content": {
        "cell": "28574b9f-a587-4d04-810c-d8d717fba483",
        "part": "whole"
       },
       "id": "e3e7ebe6-1cd2-43ed-80a2-5907c09b79d9"
      }
     }
    },
    "45a03f76-e7a6-485e-b120-0d9fec9f1b52": {
     "id": "45a03f76-e7a6-485e-b120-0d9fec9f1b52",
     "prev": "dd481e58-dfba-4fdc-b444-4fdb4de0ecbb",
     "regions": {
      "3f49592d-59f6-42b6-ab48-541b29ff4e3c": {
       "attrs": {
        "height": 0.8,
        "width": 0.8,
        "x": 0.1,
        "y": 0.1
       },
       "content": {
        "cell": "b2be325d-d132-4a2d-ba81-f04a69c824e6",
        "part": "whole"
       },
       "id": "3f49592d-59f6-42b6-ab48-541b29ff4e3c"
      }
     }
    },
    "4b727b37-fb2e-4a06-8a78-82228b6baff6": {
     "id": "4b727b37-fb2e-4a06-8a78-82228b6baff6",
     "prev": "918eb9e0-e33b-4664-bfb5-a4f09d5071f7",
     "regions": {
      "f82808a7-e020-4e2b-99e8-a1bcaf069596": {
       "attrs": {
        "height": 0.8,
        "width": 0.8,
        "x": 0.1,
        "y": 0.1
       },
       "content": {
        "cell": "0976f32f-41ae-41e2-8e61-58bf33470102",
        "part": "whole"
       },
       "id": "f82808a7-e020-4e2b-99e8-a1bcaf069596"
      }
     }
    },
    "7400dc2d-f2b2-4bc8-8143-7efa4be2b540": {
     "id": "7400dc2d-f2b2-4bc8-8143-7efa4be2b540",
     "prev": "3d0e6b69-5efb-4661-9aa7-9e2072a2da07",
     "regions": {
      "16879045-15da-45ca-9c30-86632a1e7e92": {
       "attrs": {
        "height": 0.8,
        "width": 0.8,
        "x": 0.1,
        "y": 0.1
       },
       "content": {
        "cell": "297571c2-d776-4eb0-b1ef-e0005c8b29c8",
        "part": "whole"
       },
       "id": "16879045-15da-45ca-9c30-86632a1e7e92"
      }
     }
    },
    "918eb9e0-e33b-4664-bfb5-a4f09d5071f7": {
     "id": "918eb9e0-e33b-4664-bfb5-a4f09d5071f7",
     "prev": "ebfccd3e-ebd0-41c6-b97f-17838eb8f822",
     "regions": {
      "0bd189e8-d14e-4b58-9b22-5e3f7dd1d2c0": {
       "attrs": {
        "height": 0.8,
        "width": 0.8,
        "x": 0.1,
        "y": 0.1
       },
       "content": {
        "cell": "5194009a-74db-45a3-ad9d-bc6a3bc42ad3",
        "part": "whole"
       },
       "id": "0bd189e8-d14e-4b58-9b22-5e3f7dd1d2c0"
      }
     }
    },
    "bc03d182-7eaa-4a05-bc1d-6a12d90157e2": {
     "id": "bc03d182-7eaa-4a05-bc1d-6a12d90157e2",
     "prev": "354ee010-576d-47f7-926e-f297a3fba8b7",
     "regions": {
      "87bc3da6-f32d-4f54-ad25-3fb0d31a85b5": {
       "attrs": {
        "height": 0.8,
        "width": 0.8,
        "x": 0.1,
        "y": 0.1
       },
       "content": {
        "cell": "7044a57b-5893-42a3-ae6b-4e399410a584",
        "part": "whole"
       },
       "id": "87bc3da6-f32d-4f54-ad25-3fb0d31a85b5"
      }
     }
    },
    "dd481e58-dfba-4fdc-b444-4fdb4de0ecbb": {
     "id": "dd481e58-dfba-4fdc-b444-4fdb4de0ecbb",
     "prev": "7400dc2d-f2b2-4bc8-8143-7efa4be2b540",
     "regions": {
      "3f013e5d-1ad0-490c-94c0-47e8356a4558": {
       "attrs": {
        "height": 0.8,
        "width": 0.8,
        "x": 0.1,
        "y": 0.1
       },
       "content": {
        "cell": "6f99e59c-c5fd-4501-9f68-5bff7a6fa77c",
        "part": "whole"
       },
       "id": "3f013e5d-1ad0-490c-94c0-47e8356a4558"
      }
     }
    },
    "e7a3e85b-a6fa-4dc3-a38b-21e25175792d": {
     "id": "e7a3e85b-a6fa-4dc3-a38b-21e25175792d",
     "prev": "bc03d182-7eaa-4a05-bc1d-6a12d90157e2",
     "regions": {
      "02724b41-09de-4be5-9574-66cb06d97579": {
       "attrs": {
        "height": 0.8,
        "width": 0.8,
        "x": 0.1,
        "y": 0.1
       },
       "content": {
        "cell": "342ce46c-0e62-47be-87e2-08654e8904d0",
        "part": "whole"
       },
       "id": "02724b41-09de-4be5-9574-66cb06d97579"
      }
     }
    },
    "ebfccd3e-ebd0-41c6-b97f-17838eb8f822": {
     "id": "ebfccd3e-ebd0-41c6-b97f-17838eb8f822",
     "prev": "e7a3e85b-a6fa-4dc3-a38b-21e25175792d",
     "regions": {
      "a6d3d9b3-4aa2-4748-9614-92e3a4f876d7": {
       "attrs": {
        "height": 0.8,
        "width": 0.8,
        "x": 0.1,
        "y": 0.1
       },
       "content": {
        "cell": "16fae44a-ced9-4b84-a193-9fd4bf2fbe73",
        "part": "whole"
       },
       "id": "a6d3d9b3-4aa2-4748-9614-92e3a4f876d7"
      }
     }
    },
    "faad63dc-3372-4958-8c0e-cbf1a2e59009": {
     "id": "faad63dc-3372-4958-8c0e-cbf1a2e59009",
     "prev": "0cffc379-ee0f-401a-a307-d69c798a4b52",
     "regions": {
      "9ec7077b-c670-437d-add3-8bacab23810b": {
       "attrs": {
        "height": 0.8,
        "width": 0.8,
        "x": 0.1,
        "y": 0.1
       },
       "content": {
        "cell": "8817c5be-f5e6-4065-abd1-11138422c0e6",
        "part": "whole"
       },
       "id": "9ec7077b-c670-437d-add3-8bacab23810b"
      }
     }
    }
   },
   "themes": {}
  }
 },
 "nbformat": 4,
 "nbformat_minor": 0
}
